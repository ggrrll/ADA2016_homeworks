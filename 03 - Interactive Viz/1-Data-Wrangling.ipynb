{
 "cells": [
  {
   "cell_type": "markdown",
   "metadata": {},
   "source": [
    "# Homework 03 - Part 1 : Data Wrangling\n",
    "\n",
    "\n",
    "_Goal_ :\n",
    "\n",
    "**We want to build an interactive map visualization showing how much grant money goes to each Swiss canton. To do so, we have at our disposal a `.csv` file containing a list of grants with the corresponding amount and university. In order to build our map, we first have to get location data about the grants. That is, we want to know for each university in the dataset the corresponding swiss *canton*.**\n",
    "\n",
    "_Tools_ :\n",
    "\n",
    "**The tools used for this part are :**\n",
    "* Pandas\n",
    "* Requests\n",
    "* BeautifoulSoup\n",
    "* [Google Places Geocoding API](https://developers.google.com/maps/documentation/geocoding/intro).\n",
    "\n",
    "_Contents_ :\n",
    "* [1 - Data exploration](#1---Data-exploration)\n",
    "* [2 - Mapping universities to cantons](#2---Mapping-universities-to-cantons)\n",
    "\n",
    "---\n",
    "\n",
    "First, we make some useful and usual imports. Mind that we also import from a custom file `helpers.py`."
   ]
  },
  {
   "cell_type": "code",
   "execution_count": 2,
   "metadata": {
    "collapsed": true
   },
   "outputs": [],
   "source": [
    "%matplotlib inline\n",
    "import pandas as pd\n",
    "import numpy as np\n",
    "import matplotlib.pyplot as plt\n",
    "import seaborn as sns\n",
    "sns.set_context('notebook')\n",
    "from helpers import * # custom helper file"
   ]
  },
  {
   "cell_type": "markdown",
   "metadata": {},
   "source": [
    "# 1 - Data exploration\n",
    "\n",
    "## Importing grants data\n",
    "\n",
    "The main file containing data about the grants is `P3_GrantExport.csv`. We use the `read_csv` function of *pandas* to create a DataFrame from this data. Mind that we have to specify that a custom separator `;` is used in this file."
   ]
  },
  {
   "cell_type": "code",
   "execution_count": 3,
   "metadata": {
    "collapsed": false,
    "scrolled": true
   },
   "outputs": [
    {
     "data": {
      "text/html": [
       "<div>\n",
       "<table border=\"1\" class=\"dataframe\">\n",
       "  <thead>\n",
       "    <tr style=\"text-align: right;\">\n",
       "      <th></th>\n",
       "      <th>Project Number</th>\n",
       "      <th>Project Title</th>\n",
       "      <th>Project Title English</th>\n",
       "      <th>Responsible Applicant</th>\n",
       "      <th>Funding Instrument</th>\n",
       "      <th>Funding Instrument Hierarchy</th>\n",
       "      <th>Institution</th>\n",
       "      <th>University</th>\n",
       "      <th>Discipline Number</th>\n",
       "      <th>Discipline Name</th>\n",
       "      <th>Discipline Name Hierarchy</th>\n",
       "      <th>Start Date</th>\n",
       "      <th>End Date</th>\n",
       "      <th>Approved Amount</th>\n",
       "      <th>Keywords</th>\n",
       "    </tr>\n",
       "  </thead>\n",
       "  <tbody>\n",
       "    <tr>\n",
       "      <th>0</th>\n",
       "      <td>1</td>\n",
       "      <td>Schlussband (Bd. VI) der Jacob Burckhardt-Biog...</td>\n",
       "      <td>NaN</td>\n",
       "      <td>Kaegi Werner</td>\n",
       "      <td>Project funding (Div. I-III)</td>\n",
       "      <td>Project funding</td>\n",
       "      <td>NaN</td>\n",
       "      <td>Nicht zuteilbar - NA</td>\n",
       "      <td>10302</td>\n",
       "      <td>Swiss history</td>\n",
       "      <td>Human and Social Sciences;Theology &amp; religious...</td>\n",
       "      <td>01.10.1975</td>\n",
       "      <td>30.09.1976</td>\n",
       "      <td>11619.00</td>\n",
       "      <td>NaN</td>\n",
       "    </tr>\n",
       "    <tr>\n",
       "      <th>1</th>\n",
       "      <td>4</td>\n",
       "      <td>Batterie de tests à l'usage des enseignants po...</td>\n",
       "      <td>NaN</td>\n",
       "      <td>Massarenti Léonard</td>\n",
       "      <td>Project funding (Div. I-III)</td>\n",
       "      <td>Project funding</td>\n",
       "      <td>Faculté de Psychologie et des Sciences de l'Ed...</td>\n",
       "      <td>Université de Genève - GE</td>\n",
       "      <td>10104</td>\n",
       "      <td>Educational science and Pedagogy</td>\n",
       "      <td>Human and Social Sciences;Psychology, educatio...</td>\n",
       "      <td>01.10.1975</td>\n",
       "      <td>30.09.1976</td>\n",
       "      <td>41022.00</td>\n",
       "      <td>NaN</td>\n",
       "    </tr>\n",
       "    <tr>\n",
       "      <th>2</th>\n",
       "      <td>5</td>\n",
       "      <td>Kritische Erstausgabe der \"Evidentiae contra D...</td>\n",
       "      <td>NaN</td>\n",
       "      <td>Kommission für das Corpus philosophorum medii ...</td>\n",
       "      <td>Project funding (Div. I-III)</td>\n",
       "      <td>Project funding</td>\n",
       "      <td>Kommission für das Corpus philosophorum medii ...</td>\n",
       "      <td>NPO (Biblioth., Museen, Verwalt.) - NPO</td>\n",
       "      <td>10101</td>\n",
       "      <td>Philosophy</td>\n",
       "      <td>Human and Social Sciences;Linguistics and lite...</td>\n",
       "      <td>01.03.1976</td>\n",
       "      <td>28.02.1985</td>\n",
       "      <td>79732.00</td>\n",
       "      <td>NaN</td>\n",
       "    </tr>\n",
       "    <tr>\n",
       "      <th>3</th>\n",
       "      <td>6</td>\n",
       "      <td>Katalog der datierten Handschriften in der Sch...</td>\n",
       "      <td>NaN</td>\n",
       "      <td>Burckhardt Max</td>\n",
       "      <td>Project funding (Div. I-III)</td>\n",
       "      <td>Project funding</td>\n",
       "      <td>Abt. Handschriften und Alte Drucke Bibliothek ...</td>\n",
       "      <td>Universität Basel - BS</td>\n",
       "      <td>10302</td>\n",
       "      <td>Swiss history</td>\n",
       "      <td>Human and Social Sciences;Theology &amp; religious...</td>\n",
       "      <td>01.10.1975</td>\n",
       "      <td>30.09.1976</td>\n",
       "      <td>52627.00</td>\n",
       "      <td>NaN</td>\n",
       "    </tr>\n",
       "    <tr>\n",
       "      <th>4</th>\n",
       "      <td>7</td>\n",
       "      <td>Wissenschaftliche Mitarbeit am Thesaurus Lingu...</td>\n",
       "      <td>NaN</td>\n",
       "      <td>Schweiz. Thesauruskommission</td>\n",
       "      <td>Project funding (Div. I-III)</td>\n",
       "      <td>Project funding</td>\n",
       "      <td>Schweiz. Thesauruskommission</td>\n",
       "      <td>NPO (Biblioth., Museen, Verwalt.) - NPO</td>\n",
       "      <td>10303</td>\n",
       "      <td>Ancient history and Classical studies</td>\n",
       "      <td>Human and Social Sciences;Theology &amp; religious...</td>\n",
       "      <td>01.01.1976</td>\n",
       "      <td>30.04.1978</td>\n",
       "      <td>120042.00</td>\n",
       "      <td>NaN</td>\n",
       "    </tr>\n",
       "  </tbody>\n",
       "</table>\n",
       "</div>"
      ],
      "text/plain": [
       "   Project Number                                      Project Title  \\\n",
       "0               1  Schlussband (Bd. VI) der Jacob Burckhardt-Biog...   \n",
       "1               4  Batterie de tests à l'usage des enseignants po...   \n",
       "2               5  Kritische Erstausgabe der \"Evidentiae contra D...   \n",
       "3               6  Katalog der datierten Handschriften in der Sch...   \n",
       "4               7  Wissenschaftliche Mitarbeit am Thesaurus Lingu...   \n",
       "\n",
       "  Project Title English                              Responsible Applicant  \\\n",
       "0                   NaN                                       Kaegi Werner   \n",
       "1                   NaN                                 Massarenti Léonard   \n",
       "2                   NaN  Kommission für das Corpus philosophorum medii ...   \n",
       "3                   NaN                                     Burckhardt Max   \n",
       "4                   NaN                       Schweiz. Thesauruskommission   \n",
       "\n",
       "             Funding Instrument Funding Instrument Hierarchy  \\\n",
       "0  Project funding (Div. I-III)              Project funding   \n",
       "1  Project funding (Div. I-III)              Project funding   \n",
       "2  Project funding (Div. I-III)              Project funding   \n",
       "3  Project funding (Div. I-III)              Project funding   \n",
       "4  Project funding (Div. I-III)              Project funding   \n",
       "\n",
       "                                         Institution  \\\n",
       "0                                                NaN   \n",
       "1  Faculté de Psychologie et des Sciences de l'Ed...   \n",
       "2  Kommission für das Corpus philosophorum medii ...   \n",
       "3  Abt. Handschriften und Alte Drucke Bibliothek ...   \n",
       "4                       Schweiz. Thesauruskommission   \n",
       "\n",
       "                                University  Discipline Number  \\\n",
       "0                     Nicht zuteilbar - NA              10302   \n",
       "1                Université de Genève - GE              10104   \n",
       "2  NPO (Biblioth., Museen, Verwalt.) - NPO              10101   \n",
       "3                   Universität Basel - BS              10302   \n",
       "4  NPO (Biblioth., Museen, Verwalt.) - NPO              10303   \n",
       "\n",
       "                         Discipline Name  \\\n",
       "0                          Swiss history   \n",
       "1       Educational science and Pedagogy   \n",
       "2                             Philosophy   \n",
       "3                          Swiss history   \n",
       "4  Ancient history and Classical studies   \n",
       "\n",
       "                           Discipline Name Hierarchy  Start Date    End Date  \\\n",
       "0  Human and Social Sciences;Theology & religious...  01.10.1975  30.09.1976   \n",
       "1  Human and Social Sciences;Psychology, educatio...  01.10.1975  30.09.1976   \n",
       "2  Human and Social Sciences;Linguistics and lite...  01.03.1976  28.02.1985   \n",
       "3  Human and Social Sciences;Theology & religious...  01.10.1975  30.09.1976   \n",
       "4  Human and Social Sciences;Theology & religious...  01.01.1976  30.04.1978   \n",
       "\n",
       "  Approved Amount Keywords  \n",
       "0        11619.00      NaN  \n",
       "1        41022.00      NaN  \n",
       "2        79732.00      NaN  \n",
       "3        52627.00      NaN  \n",
       "4       120042.00      NaN  "
      ]
     },
     "execution_count": 3,
     "metadata": {},
     "output_type": "execute_result"
    }
   ],
   "source": [
    "grants = pd.read_csv('./SNSF_data/P3_GrantExport.csv',sep=';')\n",
    "grants.head()"
   ]
  },
  {
   "cell_type": "markdown",
   "metadata": {},
   "source": [
    "## A bit of data exploration\n",
    "\n",
    "As usual, let us first look a bit at what we have. In particular, let's look at the distribution of the number of grants per university."
   ]
  },
  {
   "cell_type": "code",
   "execution_count": 4,
   "metadata": {
    "collapsed": false
   },
   "outputs": [],
   "source": [
    "uni_grants_counts = grants.University.value_counts().value_counts()"
   ]
  },
  {
   "cell_type": "code",
   "execution_count": 5,
   "metadata": {
    "collapsed": false
   },
   "outputs": [
    {
     "data": {
      "text/plain": [
       "<matplotlib.text.Text at 0x10f355c50>"
      ]
     },
     "execution_count": 5,
     "metadata": {},
     "output_type": "execute_result"
    },
    {
     "data": {
      "image/png": "[encoded data removed]",
      "text/plain": [
       "<matplotlib.figure.Figure at 0x11b727eb8>"
      ]
     },
     "metadata": {},
     "output_type": "display_data"
    }
   ],
   "source": [
    "uni_grants_dist_scat = plt.scatter(uni_grants_counts.index, uni_grants_counts.values)\n",
    "plt.xlabel('Number of grants / university')\n",
    "plt.ylabel('Number of universities granted')"
   ]
  },
  {
   "cell_type": "markdown",
   "metadata": {},
   "source": [
    "# 2 - Mapping universities to cantons\n",
    "\n",
    "## The automatic part...\n",
    "\n",
    "In fact, to build our map viz, we are mainly interested in the unique values (ie. names) of the column `University`. Let's retrieve this set of values in a `universities` variable. Then, we will have to find a mapping going from each unique value to a canton code. "
   ]
  },
  {
   "cell_type": "code",
   "execution_count": 6,
   "metadata": {
    "collapsed": false
   },
   "outputs": [
    {
     "data": {
      "text/plain": [
       "array(['Nicht zuteilbar - NA', 'Université de Genève - GE',\n",
       "       'NPO (Biblioth., Museen, Verwalt.) - NPO', 'Universität Basel - BS',\n",
       "       'Université de Fribourg - FR', 'Universität Zürich - ZH',\n",
       "       'Université de Lausanne - LA', 'Universität Bern - BE',\n",
       "       'Eidg. Forschungsanstalt für Wald,Schnee,Land - WSL',\n",
       "       'Université de Neuchâtel - NE'], dtype=object)"
      ]
     },
     "execution_count": 6,
     "metadata": {},
     "output_type": "execute_result"
    }
   ],
   "source": [
    "universities = grants.University.unique()\n",
    "universities[:10]"
   ]
  },
  {
   "cell_type": "markdown",
   "metadata": {},
   "source": [
    "After a quick Google search, we can find the list of the 26 swiss cantons codes in a `.csv` file [on this GitHub repository](https://github.com/d-qn/swiss-maps/blob/master/meta/cantons.csv). Let's use this file to build a list containing all the valid codes of swiss cantons. To do so, we use the `read_csv` function again and just retain the column containing the codes, transformed to a Python list."
   ]
  },
  {
   "cell_type": "code",
   "execution_count": 7,
   "metadata": {
    "collapsed": false
   },
   "outputs": [],
   "source": [
    "cantons_df = pd.read_csv('cantons.csv')\n",
    "cantons = list(cantons_df.canton.values)"
   ]
  },
  {
   "cell_type": "markdown",
   "metadata": {},
   "source": [
    "Now, we have to actually find a canton code for each university. To (try to) do so, we use our helper function `build_df`, which is defined in the file `helpers.py`.\n",
    "\n",
    "This function takes two parameters :\n",
    "* the list of universities\n",
    "* a list of valid codes\n",
    "\n",
    "Then it tries to find the code for each university, by scraping the result page on Google to find an address (it is often displayed in the \"card\" right of the search results) and then find the associated canton with the [Google Places Geocoding API](https://developers.google.com/maps/documentation/geocoding/intro).\n",
    "\n",
    "We store the results in a DataFrame `uni_cantons`."
   ]
  },
  {
   "cell_type": "code",
   "execution_count": 8,
   "metadata": {
    "collapsed": false
   },
   "outputs": [
    {
     "name": "stdout",
     "output_type": "stream",
     "text": [
      "Searching for cantons... 78/78"
     ]
    }
   ],
   "source": [
    "uni_cantons = build_df(universities, cantons)"
   ]
  },
  {
   "cell_type": "markdown",
   "metadata": {},
   "source": [
    "Let's look at the universities for which we couldn't find a canton code, ie. those corresponding to `None` values in `uni_cantons`."
   ]
  },
  {
   "cell_type": "code",
   "execution_count": 9,
   "metadata": {
    "collapsed": false,
    "scrolled": true
   },
   "outputs": [
    {
     "name": "stdout",
     "output_type": "stream",
     "text": [
      "Not found : 24\n"
     ]
    }
   ],
   "source": [
    "not_found = uni_cantons[pd.isnull(uni_cantons.canton)]\n",
    "print(\"Not found : {}\".format(len(not_found)))"
   ]
  },
  {
   "cell_type": "markdown",
   "metadata": {},
   "source": [
    "Unfortunately, there is almost 1/3 of the universities for which we don't have a result. According to the assignment rules, we can search them by hand. Let's print them, then."
   ]
  },
  {
   "cell_type": "code",
   "execution_count": 10,
   "metadata": {
    "collapsed": false,
    "scrolled": true
   },
   "outputs": [
    {
     "data": {
      "text/html": [
       "<div>\n",
       "<table border=\"1\" class=\"dataframe\">\n",
       "  <thead>\n",
       "    <tr style=\"text-align: right;\">\n",
       "      <th></th>\n",
       "      <th>university</th>\n",
       "      <th>address</th>\n",
       "      <th>latitude</th>\n",
       "      <th>longitude</th>\n",
       "      <th>canton</th>\n",
       "    </tr>\n",
       "  </thead>\n",
       "  <tbody>\n",
       "    <tr>\n",
       "      <th>0</th>\n",
       "      <td>Nicht zuteilbar - NA</td>\n",
       "      <td>NaN</td>\n",
       "      <td>NaN</td>\n",
       "      <td>NaN</td>\n",
       "      <td>NaN</td>\n",
       "    </tr>\n",
       "    <tr>\n",
       "      <th>2</th>\n",
       "      <td>NPO (Biblioth., Museen, Verwalt.) - NPO</td>\n",
       "      <td>NaN</td>\n",
       "      <td>NaN</td>\n",
       "      <td>NaN</td>\n",
       "      <td>NaN</td>\n",
       "    </tr>\n",
       "    <tr>\n",
       "      <th>8</th>\n",
       "      <td>Eidg. Forschungsanstalt für Wald,Schnee,Land -...</td>\n",
       "      <td>NaN</td>\n",
       "      <td>NaN</td>\n",
       "      <td>NaN</td>\n",
       "      <td>NaN</td>\n",
       "    </tr>\n",
       "    <tr>\n",
       "      <th>11</th>\n",
       "      <td>Inst. de Hautes Etudes Internat. et du Dév - I...</td>\n",
       "      <td>Maison de la Paix, Chemin Eugène-Rigot 2, 1202...</td>\n",
       "      <td>46.220787</td>\n",
       "      <td>6.143574</td>\n",
       "      <td>NaN</td>\n",
       "    </tr>\n",
       "    <tr>\n",
       "      <th>13</th>\n",
       "      <td>Weitere Institute - FINST</td>\n",
       "      <td>NaN</td>\n",
       "      <td>NaN</td>\n",
       "      <td>NaN</td>\n",
       "      <td>NaN</td>\n",
       "    </tr>\n",
       "    <tr>\n",
       "      <th>14</th>\n",
       "      <td>Firmen/Privatwirtschaft - FP</td>\n",
       "      <td>NaN</td>\n",
       "      <td>NaN</td>\n",
       "      <td>NaN</td>\n",
       "      <td>NaN</td>\n",
       "    </tr>\n",
       "    <tr>\n",
       "      <th>26</th>\n",
       "      <td>Eidg. Material und Prüfungsanstalt - EMPA</td>\n",
       "      <td>NaN</td>\n",
       "      <td>NaN</td>\n",
       "      <td>NaN</td>\n",
       "      <td>NaN</td>\n",
       "    </tr>\n",
       "    <tr>\n",
       "      <th>27</th>\n",
       "      <td>Physikal.-Meteorolog. Observatorium Davos - PMOD</td>\n",
       "      <td>NaN</td>\n",
       "      <td>NaN</td>\n",
       "      <td>NaN</td>\n",
       "      <td>NaN</td>\n",
       "    </tr>\n",
       "    <tr>\n",
       "      <th>30</th>\n",
       "      <td>Weitere Spitäler - ASPIT</td>\n",
       "      <td>NaN</td>\n",
       "      <td>NaN</td>\n",
       "      <td>NaN</td>\n",
       "      <td>NaN</td>\n",
       "    </tr>\n",
       "    <tr>\n",
       "      <th>31</th>\n",
       "      <td>AO Research Institute - AORI</td>\n",
       "      <td>NaN</td>\n",
       "      <td>NaN</td>\n",
       "      <td>NaN</td>\n",
       "      <td>NaN</td>\n",
       "    </tr>\n",
       "    <tr>\n",
       "      <th>32</th>\n",
       "      <td>Allergie- und Asthmaforschung - SIAF</td>\n",
       "      <td>NaN</td>\n",
       "      <td>NaN</td>\n",
       "      <td>NaN</td>\n",
       "      <td>NaN</td>\n",
       "    </tr>\n",
       "    <tr>\n",
       "      <th>36</th>\n",
       "      <td>Forschungsanstalten Agroscope - AGS</td>\n",
       "      <td>NaN</td>\n",
       "      <td>NaN</td>\n",
       "      <td>NaN</td>\n",
       "      <td>NaN</td>\n",
       "    </tr>\n",
       "    <tr>\n",
       "      <th>40</th>\n",
       "      <td>Zürcher Fachhochschule (ohne PH) - ZFH</td>\n",
       "      <td>NaN</td>\n",
       "      <td>NaN</td>\n",
       "      <td>NaN</td>\n",
       "      <td>NaN</td>\n",
       "    </tr>\n",
       "    <tr>\n",
       "      <th>43</th>\n",
       "      <td>Fachhochschule Nordwestschweiz (ohne PH) - FHNW</td>\n",
       "      <td>NaN</td>\n",
       "      <td>NaN</td>\n",
       "      <td>NaN</td>\n",
       "      <td>NaN</td>\n",
       "    </tr>\n",
       "    <tr>\n",
       "      <th>51</th>\n",
       "      <td>Forschungsinstitut für Opthalmologie - IRO</td>\n",
       "      <td>NaN</td>\n",
       "      <td>NaN</td>\n",
       "      <td>NaN</td>\n",
       "      <td>NaN</td>\n",
       "    </tr>\n",
       "    <tr>\n",
       "      <th>55</th>\n",
       "      <td>Swiss Institute of Bioinformatics - SIB</td>\n",
       "      <td>NaN</td>\n",
       "      <td>NaN</td>\n",
       "      <td>NaN</td>\n",
       "      <td>NaN</td>\n",
       "    </tr>\n",
       "    <tr>\n",
       "      <th>58</th>\n",
       "      <td>Forschungskommission SAGW</td>\n",
       "      <td>NaN</td>\n",
       "      <td>NaN</td>\n",
       "      <td>NaN</td>\n",
       "      <td>NaN</td>\n",
       "    </tr>\n",
       "    <tr>\n",
       "      <th>59</th>\n",
       "      <td>Istituto Svizzero di Roma - ISR</td>\n",
       "      <td>Via Ludovisi, 48, 00187 Roma, Italien</td>\n",
       "      <td>41.906675</td>\n",
       "      <td>12.487739</td>\n",
       "      <td>NaN</td>\n",
       "    </tr>\n",
       "    <tr>\n",
       "      <th>60</th>\n",
       "      <td>Pädag. Hochschule Tessin (Teilschule SUPSI) - ASP</td>\n",
       "      <td>NaN</td>\n",
       "      <td>NaN</td>\n",
       "      <td>NaN</td>\n",
       "      <td>NaN</td>\n",
       "    </tr>\n",
       "    <tr>\n",
       "      <th>66</th>\n",
       "      <td>Schweizer Kompetenzzentrum Sozialwissensch. - ...</td>\n",
       "      <td>NaN</td>\n",
       "      <td>NaN</td>\n",
       "      <td>NaN</td>\n",
       "      <td>NaN</td>\n",
       "    </tr>\n",
       "    <tr>\n",
       "      <th>67</th>\n",
       "      <td>Pädagogische Hochschule Wallis - PHVS</td>\n",
       "      <td>NaN</td>\n",
       "      <td>NaN</td>\n",
       "      <td>NaN</td>\n",
       "      <td>NaN</td>\n",
       "    </tr>\n",
       "    <tr>\n",
       "      <th>73</th>\n",
       "      <td>Pädagogische Hochschule Nordwestschweiz - PHFHNW</td>\n",
       "      <td>NaN</td>\n",
       "      <td>NaN</td>\n",
       "      <td>NaN</td>\n",
       "      <td>NaN</td>\n",
       "    </tr>\n",
       "    <tr>\n",
       "      <th>74</th>\n",
       "      <td>Staatsunabh. Theologische Hochschule Basel - STHB</td>\n",
       "      <td>NaN</td>\n",
       "      <td>NaN</td>\n",
       "      <td>NaN</td>\n",
       "      <td>NaN</td>\n",
       "    </tr>\n",
       "    <tr>\n",
       "      <th>76</th>\n",
       "      <td>Fernfachhochschule Schweiz (Mitglied SUPSI) - ...</td>\n",
       "      <td>NaN</td>\n",
       "      <td>NaN</td>\n",
       "      <td>NaN</td>\n",
       "      <td>NaN</td>\n",
       "    </tr>\n",
       "  </tbody>\n",
       "</table>\n",
       "</div>"
      ],
      "text/plain": [
       "                                           university  \\\n",
       "0                                Nicht zuteilbar - NA   \n",
       "2             NPO (Biblioth., Museen, Verwalt.) - NPO   \n",
       "8   Eidg. Forschungsanstalt für Wald,Schnee,Land -...   \n",
       "11  Inst. de Hautes Etudes Internat. et du Dév - I...   \n",
       "13                          Weitere Institute - FINST   \n",
       "14                       Firmen/Privatwirtschaft - FP   \n",
       "26          Eidg. Material und Prüfungsanstalt - EMPA   \n",
       "27   Physikal.-Meteorolog. Observatorium Davos - PMOD   \n",
       "30                           Weitere Spitäler - ASPIT   \n",
       "31                       AO Research Institute - AORI   \n",
       "32               Allergie- und Asthmaforschung - SIAF   \n",
       "36                Forschungsanstalten Agroscope - AGS   \n",
       "40             Zürcher Fachhochschule (ohne PH) - ZFH   \n",
       "43    Fachhochschule Nordwestschweiz (ohne PH) - FHNW   \n",
       "51         Forschungsinstitut für Opthalmologie - IRO   \n",
       "55            Swiss Institute of Bioinformatics - SIB   \n",
       "58                          Forschungskommission SAGW   \n",
       "59                    Istituto Svizzero di Roma - ISR   \n",
       "60  Pädag. Hochschule Tessin (Teilschule SUPSI) - ASP   \n",
       "66  Schweizer Kompetenzzentrum Sozialwissensch. - ...   \n",
       "67              Pädagogische Hochschule Wallis - PHVS   \n",
       "73   Pädagogische Hochschule Nordwestschweiz - PHFHNW   \n",
       "74  Staatsunabh. Theologische Hochschule Basel - STHB   \n",
       "76  Fernfachhochschule Schweiz (Mitglied SUPSI) - ...   \n",
       "\n",
       "                                              address   latitude  longitude  \\\n",
       "0                                                 NaN        NaN        NaN   \n",
       "2                                                 NaN        NaN        NaN   \n",
       "8                                                 NaN        NaN        NaN   \n",
       "11  Maison de la Paix, Chemin Eugène-Rigot 2, 1202...  46.220787   6.143574   \n",
       "13                                                NaN        NaN        NaN   \n",
       "14                                                NaN        NaN        NaN   \n",
       "26                                                NaN        NaN        NaN   \n",
       "27                                                NaN        NaN        NaN   \n",
       "30                                                NaN        NaN        NaN   \n",
       "31                                                NaN        NaN        NaN   \n",
       "32                                                NaN        NaN        NaN   \n",
       "36                                                NaN        NaN        NaN   \n",
       "40                                                NaN        NaN        NaN   \n",
       "43                                                NaN        NaN        NaN   \n",
       "51                                                NaN        NaN        NaN   \n",
       "55                                                NaN        NaN        NaN   \n",
       "58                                                NaN        NaN        NaN   \n",
       "59              Via Ludovisi, 48, 00187 Roma, Italien  41.906675  12.487739   \n",
       "60                                                NaN        NaN        NaN   \n",
       "66                                                NaN        NaN        NaN   \n",
       "67                                                NaN        NaN        NaN   \n",
       "73                                                NaN        NaN        NaN   \n",
       "74                                                NaN        NaN        NaN   \n",
       "76                                                NaN        NaN        NaN   \n",
       "\n",
       "   canton  \n",
       "0     NaN  \n",
       "2     NaN  \n",
       "8     NaN  \n",
       "11    NaN  \n",
       "13    NaN  \n",
       "14    NaN  \n",
       "26    NaN  \n",
       "27    NaN  \n",
       "30    NaN  \n",
       "31    NaN  \n",
       "32    NaN  \n",
       "36    NaN  \n",
       "40    NaN  \n",
       "43    NaN  \n",
       "51    NaN  \n",
       "55    NaN  \n",
       "58    NaN  \n",
       "59    NaN  \n",
       "60    NaN  \n",
       "66    NaN  \n",
       "67    NaN  \n",
       "73    NaN  \n",
       "74    NaN  \n",
       "76    NaN  "
      ]
     },
     "execution_count": 10,
     "metadata": {},
     "output_type": "execute_result"
    }
   ],
   "source": [
    "not_found"
   ]
  },
  {
   "cell_type": "markdown",
   "metadata": {},
   "source": [
    "## ... and the manual one\n",
    "\n",
    "After searching by hand, we can come up with cantons for almost every university."
   ]
  },
  {
   "cell_type": "code",
   "execution_count": 11,
   "metadata": {
    "collapsed": false
   },
   "outputs": [],
   "source": [
    "manual_search = {\n",
    "    'AO Research Institute - AORI': 'GR',                       # Davos, GR\n",
    "    'Allergie- und Asthmaforschung - SIAF': 'GR',               # Davos, GR\n",
    "    'Eidg. Forschungsanstalt für Wald,Schnee,Land - WSL': 'ZH', # Birmensdorf, ZH\n",
    "    'Eidg. Material und Prüfungsanstalt - EMPA': 'ZH',          # Dübendorf, ZH (also St Gallen & Thun...)\n",
    "    'Fachhochschule Nordwestschweiz (ohne PH) - FHNW': 'SO',    # Olten, SO\n",
    "    'Fernfachhochschule Schweiz (Mitglied SUPSI) - FFHS': 'VS', # Brig, VS\n",
    "    'Forschungsinstitut für Opthalmologie - IRO': 'VS',         # Sion, VS\n",
    "    'Forschungskommission SAGW': 'BE',                          # Bern, BE\n",
    "    'Inst. de Hautes Etudes Internat. et du Dév - IHEID': 'GE', # Geneva, GE\n",
    "    'Physikal.-Meteorolog. Observatorium Davos - PMOD': 'GR',   # Davos, GR\n",
    "    'Pädagogische Hochschule Nordwestschweiz - PHFHNW': 'AG',   # Windisch, AG\n",
    "    'Pädagogische Hochschule Wallis - PHVS': 'VS',              # Saint Maurice, VS\n",
    "    'Schweizer Kompetenzzentrum Sozialwissensch. - FORS': 'VD', # Lausanne, VD\n",
    "    'Staatsunabh. Theologische Hochschule Basel - STHB': 'BS',  # Basel, BS\n",
    "    'Swiss Institute of Bioinformatics - SIB': 'VD'             # Lausanne, VD\n",
    "    }\n",
    "\n",
    "\n",
    "def get_canton_code(university, mappings):\n",
    "    \"\"\"Get the canton code given a university name and the university/canton dictionary.\n",
    "    \n",
    "    If the university is not in the dictionary, returns a NaN.\n",
    "    \"\"\"\n",
    "    if university in mappings.keys() and mappings[university] is not None:\n",
    "        return mappings[university]\n",
    "    else:\n",
    "        return np.nan\n",
    "\n",
    "\n",
    "# Put manual results into the grants dataframe\n",
    "for row in uni_cantons.index:\n",
    "    if pd.isnull(uni_cantons.loc[row, 'canton']):\n",
    "        uni_cantons.loc[row, 'canton'] = get_canton_code(uni_cantons.loc[row, 'university'], manual_search)"
   ]
  },
  {
   "cell_type": "markdown",
   "metadata": {},
   "source": [
    "Now there are just a few left without canton. Among those, we can find :\n",
    "* foreign universities\n",
    "* NPOs\n",
    "* a \"company / private sector\" entry\n",
    "* universities that have several locations and for which it would seem artificial to pick one arbitrarly"
   ]
  },
  {
   "cell_type": "code",
   "execution_count": 12,
   "metadata": {
    "collapsed": false
   },
   "outputs": [
    {
     "name": "stdout",
     "output_type": "stream",
     "text": [
      "Not found : 9\n"
     ]
    },
    {
     "data": {
      "text/html": [
       "<div>\n",
       "<table border=\"1\" class=\"dataframe\">\n",
       "  <thead>\n",
       "    <tr style=\"text-align: right;\">\n",
       "      <th></th>\n",
       "      <th>university</th>\n",
       "      <th>address</th>\n",
       "      <th>latitude</th>\n",
       "      <th>longitude</th>\n",
       "      <th>canton</th>\n",
       "    </tr>\n",
       "  </thead>\n",
       "  <tbody>\n",
       "    <tr>\n",
       "      <th>0</th>\n",
       "      <td>Nicht zuteilbar - NA</td>\n",
       "      <td>NaN</td>\n",
       "      <td>NaN</td>\n",
       "      <td>NaN</td>\n",
       "      <td>NaN</td>\n",
       "    </tr>\n",
       "    <tr>\n",
       "      <th>2</th>\n",
       "      <td>NPO (Biblioth., Museen, Verwalt.) - NPO</td>\n",
       "      <td>NaN</td>\n",
       "      <td>NaN</td>\n",
       "      <td>NaN</td>\n",
       "      <td>NaN</td>\n",
       "    </tr>\n",
       "    <tr>\n",
       "      <th>13</th>\n",
       "      <td>Weitere Institute - FINST</td>\n",
       "      <td>NaN</td>\n",
       "      <td>NaN</td>\n",
       "      <td>NaN</td>\n",
       "      <td>NaN</td>\n",
       "    </tr>\n",
       "    <tr>\n",
       "      <th>14</th>\n",
       "      <td>Firmen/Privatwirtschaft - FP</td>\n",
       "      <td>NaN</td>\n",
       "      <td>NaN</td>\n",
       "      <td>NaN</td>\n",
       "      <td>NaN</td>\n",
       "    </tr>\n",
       "    <tr>\n",
       "      <th>30</th>\n",
       "      <td>Weitere Spitäler - ASPIT</td>\n",
       "      <td>NaN</td>\n",
       "      <td>NaN</td>\n",
       "      <td>NaN</td>\n",
       "      <td>NaN</td>\n",
       "    </tr>\n",
       "    <tr>\n",
       "      <th>36</th>\n",
       "      <td>Forschungsanstalten Agroscope - AGS</td>\n",
       "      <td>NaN</td>\n",
       "      <td>NaN</td>\n",
       "      <td>NaN</td>\n",
       "      <td>NaN</td>\n",
       "    </tr>\n",
       "    <tr>\n",
       "      <th>40</th>\n",
       "      <td>Zürcher Fachhochschule (ohne PH) - ZFH</td>\n",
       "      <td>NaN</td>\n",
       "      <td>NaN</td>\n",
       "      <td>NaN</td>\n",
       "      <td>NaN</td>\n",
       "    </tr>\n",
       "    <tr>\n",
       "      <th>59</th>\n",
       "      <td>Istituto Svizzero di Roma - ISR</td>\n",
       "      <td>Via Ludovisi, 48, 00187 Roma, Italien</td>\n",
       "      <td>41.906675</td>\n",
       "      <td>12.487739</td>\n",
       "      <td>NaN</td>\n",
       "    </tr>\n",
       "    <tr>\n",
       "      <th>60</th>\n",
       "      <td>Pädag. Hochschule Tessin (Teilschule SUPSI) - ASP</td>\n",
       "      <td>NaN</td>\n",
       "      <td>NaN</td>\n",
       "      <td>NaN</td>\n",
       "      <td>NaN</td>\n",
       "    </tr>\n",
       "  </tbody>\n",
       "</table>\n",
       "</div>"
      ],
      "text/plain": [
       "                                           university  \\\n",
       "0                                Nicht zuteilbar - NA   \n",
       "2             NPO (Biblioth., Museen, Verwalt.) - NPO   \n",
       "13                          Weitere Institute - FINST   \n",
       "14                       Firmen/Privatwirtschaft - FP   \n",
       "30                           Weitere Spitäler - ASPIT   \n",
       "36                Forschungsanstalten Agroscope - AGS   \n",
       "40             Zürcher Fachhochschule (ohne PH) - ZFH   \n",
       "59                    Istituto Svizzero di Roma - ISR   \n",
       "60  Pädag. Hochschule Tessin (Teilschule SUPSI) - ASP   \n",
       "\n",
       "                                  address   latitude  longitude canton  \n",
       "0                                     NaN        NaN        NaN    NaN  \n",
       "2                                     NaN        NaN        NaN    NaN  \n",
       "13                                    NaN        NaN        NaN    NaN  \n",
       "14                                    NaN        NaN        NaN    NaN  \n",
       "30                                    NaN        NaN        NaN    NaN  \n",
       "36                                    NaN        NaN        NaN    NaN  \n",
       "40                                    NaN        NaN        NaN    NaN  \n",
       "59  Via Ludovisi, 48, 00187 Roma, Italien  41.906675  12.487739    NaN  \n",
       "60                                    NaN        NaN        NaN    NaN  "
      ]
     },
     "execution_count": 12,
     "metadata": {},
     "output_type": "execute_result"
    }
   ],
   "source": [
    "not_found = uni_cantons[pd.isnull(uni_cantons.canton)]\n",
    "print(\"Not found : {}\".format(len(not_found)))\n",
    "not_found"
   ]
  },
  {
   "cell_type": "markdown",
   "metadata": {},
   "source": [
    "## Building a final dataframe\n",
    "\n",
    "Now we can merge the DataFrame we have built with the original DataFrame."
   ]
  },
  {
   "cell_type": "code",
   "execution_count": 13,
   "metadata": {
    "collapsed": false
   },
   "outputs": [],
   "source": [
    "grants = pd.merge(grants, uni_cantons, how='outer', left_on='University', right_on='university')"
   ]
  },
  {
   "cell_type": "markdown",
   "metadata": {},
   "source": [
    "Now, let's do a little cleanup by dropping unnecessary columns, renaming columns, keeping only years, and dropping NA values."
   ]
  },
  {
   "cell_type": "code",
   "execution_count": 14,
   "metadata": {
    "collapsed": false,
    "scrolled": true
   },
   "outputs": [],
   "source": [
    "# Column dropping and renaming\n",
    "grants_df = grants[['University', 'Approved Amount', 'Start Date', 'address', 'latitude', 'longitude', 'canton']]\n",
    "grants_df.columns = ['university', 'amount', 'year', 'address', 'latitude', 'longitude', 'canton']\n",
    "\n",
    "# Keep only years from date fields\n",
    "grants_df_final = grants_df.copy()\n",
    "grants_df_final['year'] = grants_df['year'].map(lambda x: str(x).split('.')[-1])\n",
    "\n",
    "# Drop NA values and reindex\n",
    "grants_df_final['amount'] = pd.to_numeric(grants_df_final['amount'], errors='coerce')\n",
    "grants_df_final = grants_df_final.dropna(subset=['university'])\n",
    "grants_df_final = grants_df_final.dropna(subset=['canton'])\n",
    "grants_df_final = grants_df_final.dropna(subset=['amount'])\n",
    "grants_df_final = grants_df_final.reset_index(drop=True)"
   ]
  },
  {
   "cell_type": "code",
   "execution_count": 15,
   "metadata": {
    "collapsed": false
   },
   "outputs": [
    {
     "data": {
      "text/html": [
       "<div>\n",
       "<table border=\"1\" class=\"dataframe\">\n",
       "  <thead>\n",
       "    <tr style=\"text-align: right;\">\n",
       "      <th></th>\n",
       "      <th>university</th>\n",
       "      <th>amount</th>\n",
       "      <th>year</th>\n",
       "      <th>address</th>\n",
       "      <th>latitude</th>\n",
       "      <th>longitude</th>\n",
       "      <th>canton</th>\n",
       "    </tr>\n",
       "  </thead>\n",
       "  <tbody>\n",
       "    <tr>\n",
       "      <th>0</th>\n",
       "      <td>Université de Genève - GE</td>\n",
       "      <td>41022.0</td>\n",
       "      <td>1975</td>\n",
       "      <td>Geneva</td>\n",
       "      <td>46.204391</td>\n",
       "      <td>6.143158</td>\n",
       "      <td>GE</td>\n",
       "    </tr>\n",
       "    <tr>\n",
       "      <th>1</th>\n",
       "      <td>Université de Genève - GE</td>\n",
       "      <td>360000.0</td>\n",
       "      <td>1975</td>\n",
       "      <td>Geneva</td>\n",
       "      <td>46.204391</td>\n",
       "      <td>6.143158</td>\n",
       "      <td>GE</td>\n",
       "    </tr>\n",
       "    <tr>\n",
       "      <th>2</th>\n",
       "      <td>Université de Genève - GE</td>\n",
       "      <td>116991.0</td>\n",
       "      <td>1975</td>\n",
       "      <td>Geneva</td>\n",
       "      <td>46.204391</td>\n",
       "      <td>6.143158</td>\n",
       "      <td>GE</td>\n",
       "    </tr>\n",
       "    <tr>\n",
       "      <th>3</th>\n",
       "      <td>Université de Genève - GE</td>\n",
       "      <td>149485.0</td>\n",
       "      <td>1975</td>\n",
       "      <td>Geneva</td>\n",
       "      <td>46.204391</td>\n",
       "      <td>6.143158</td>\n",
       "      <td>GE</td>\n",
       "    </tr>\n",
       "    <tr>\n",
       "      <th>4</th>\n",
       "      <td>Université de Genève - GE</td>\n",
       "      <td>164602.0</td>\n",
       "      <td>1975</td>\n",
       "      <td>Geneva</td>\n",
       "      <td>46.204391</td>\n",
       "      <td>6.143158</td>\n",
       "      <td>GE</td>\n",
       "    </tr>\n",
       "  </tbody>\n",
       "</table>\n",
       "</div>"
      ],
      "text/plain": [
       "                  university    amount  year address   latitude  longitude  \\\n",
       "0  Université de Genève - GE   41022.0  1975  Geneva  46.204391   6.143158   \n",
       "1  Université de Genève - GE  360000.0  1975  Geneva  46.204391   6.143158   \n",
       "2  Université de Genève - GE  116991.0  1975  Geneva  46.204391   6.143158   \n",
       "3  Université de Genève - GE  149485.0  1975  Geneva  46.204391   6.143158   \n",
       "4  Université de Genève - GE  164602.0  1975  Geneva  46.204391   6.143158   \n",
       "\n",
       "  canton  \n",
       "0     GE  \n",
       "1     GE  \n",
       "2     GE  \n",
       "3     GE  \n",
       "4     GE  "
      ]
     },
     "execution_count": 15,
     "metadata": {},
     "output_type": "execute_result"
    }
   ],
   "source": [
    "grants_df_final.head()"
   ]
  },
  {
   "cell_type": "markdown",
   "metadata": {
    "collapsed": true
   },
   "source": [
    "As a final step, let's save this DataFrame in a nice `.csv` file, so that it can be accessed easier later."
   ]
  },
  {
   "cell_type": "code",
   "execution_count": 16,
   "metadata": {
    "collapsed": true
   },
   "outputs": [],
   "source": [
    "grants_df_final.to_csv('grants_summary.csv')"
   ]
  },
  {
   "cell_type": "code",
   "execution_count": null,
   "metadata": {
    "collapsed": true
   },
   "outputs": [],
   "source": []
  }
 ],
 "metadata": {
  "kernelspec": {
   "display_name": "Python 3",
   "language": "python",
   "name": "python3"
  },
  "language_info": {
   "codemirror_mode": {
    "name": "ipython",
    "version": 3
   },
   "file_extension": ".py",
   "mimetype": "text/x-python",
   "name": "python",
   "nbconvert_exporter": "python",
   "pygments_lexer": "ipython3",
   "version": "3.5.2"
  }
 },
 "nbformat": 4,
 "nbformat_minor": 1
}
