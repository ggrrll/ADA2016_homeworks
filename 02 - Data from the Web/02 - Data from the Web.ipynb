{
 "cells": [
  {
   "cell_type": "markdown",
   "metadata": {},
   "source": [
    "# 02 - Data from the Web"
   ]
  },
  {
   "cell_type": "markdown",
   "metadata": {},
   "source": [
    "We use postman for understand the parameters used by the url request, asked for the exercise.\n",
    "\n",
    "(However, notice that there are equivalent tools for other browser - for instance, for firefox:\n",
    "http://stackoverflow.com/questions/28997326/postman-addons-like-in-firefox)"
   ]
  },
  {
   "cell_type": "code",
   "execution_count": 4,
   "metadata": {
    "collapsed": true
   },
   "outputs": [],
   "source": [
    "# important modules for this HW\n",
    "import bs4\n",
    "import requests as rq\n",
    "\n",
    "# previous useful modules\n",
    "%matplotlib inline\n",
    "import pandas as pd\n",
    "import numpy as np\n",
    "import matplotlib.pyplot as plt\n",
    "import seaborn as sns\n",
    "sns.set_context('notebook')"
   ]
  },
  {
   "cell_type": "markdown",
   "metadata": {},
   "source": [
    "Here we costruct the string to be used for the request"
   ]
  },
  {
   "cell_type": "code",
   "execution_count": null,
   "metadata": {
    "collapsed": true
   },
   "outputs": [],
   "source": [
    "# parameters definition\n",
    "\n",
    "ww_b_list = [1] # default value\n",
    "ww_i_reportmodel = [133685247] # don't change it - default value\n",
    "ww_c_langue = [] # language // leave it empty \n",
    "ww_i_reportModelXsl = [133685270] # 133685271: xls / 133685270: html\n",
    "\n",
    "zz_x_UNITE_ACAD = [] # BSc/MSc program\n",
    "ww_x_UNITE_ACAD = [] # num. value linked to the BSc/MSc program\n",
    "\n",
    "zz_x_PERIODE_ACAD = [] # academic year \n",
    "ww_x_PERIODE_ACAD = [] # num. value linked to the academic year \n",
    "\n",
    "zz_x_PERIODE_PEDAGO = [] # semeter number\n",
    "ww_x_PERIODE_PEDAGO = [] # num. value linked to the semeter number\n",
    "\n",
    "zz_x_HIVERETE = [] # spring/autumn\n",
    "ww_x_HIVERETE = [] # num. value linked to the spring/autumn\n",
    "\n",
    "dummy = ['ok'] # dummy index\n"
   ]
  }
 ],
 "metadata": {
  "kernelspec": {
   "display_name": "Python 2",
   "language": "python",
   "name": "python2"
  },
  "language_info": {
   "codemirror_mode": {
    "name": "ipython",
    "version": 2
   },
   "file_extension": ".py",
   "mimetype": "text/x-python",
   "name": "python",
   "nbconvert_exporter": "python",
   "pygments_lexer": "ipython2",
   "version": "2.7.11"
  }
 },
 "nbformat": 4,
 "nbformat_minor": 0
}
